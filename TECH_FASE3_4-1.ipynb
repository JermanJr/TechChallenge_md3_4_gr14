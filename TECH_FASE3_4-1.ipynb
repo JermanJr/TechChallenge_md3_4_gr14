{
 "cells": [
  {
   "cell_type": "markdown",
   "metadata": {},
   "source": [
    "## TechChallenge Módulos 3 e 4 \n",
    "\n",
    "# Problema \n",
    "\n",
    "Imagine que você foi escalado para um time de investimentos e precisará realizar um modelo preditivo com dados da IBO-VESPA (Bolsa de valores) para criar uma série temporal e prever diariamente o fechamento da base.\n",
    "\n",
    "Para isso utilize a base de dados contida no site da investing e selecione o período \"diário\", com o intervalo de tempo que achar adequado.\n",
    "\n",
    "Você precisará demonstrar para o time de investimentos:\n",
    "1. O modelo com o storytelling, desde a captura do dado até a entrega do modelo;\n",
    "2. Justificar a técnica utilizada;\n",
    "3. Atingir uma acuracidade adequada (acima de 70%).\n",
    "\n",
    "DICA - Utilize o maior intervalo de tempo possível para atingir maior acuracidade no modelo preditivo\n",
    "\n",
    "https://br.investing.com/indices/bovespa-historical-data\n"
   ]
  },
  {
   "cell_type": "code",
   "execution_count": 275,
   "metadata": {},
   "outputs": [
    {
     "name": "stderr",
     "output_type": "stream",
     "text": [
      "/var/folders/yy/j7q__sds4d7_4kx430yt5khr0000gn/T/ipykernel_18526/707622320.py:6: UserWarning: Parsing dates in DD/MM/YYYY format when dayfirst=False (the default) was specified. This may lead to inconsistently parsed dates! Specify a format to ensure consistent parsing.\n",
      "  dados = pd.read_csv('/Users/marco/Library/CloudStorage/OneDrive-Fiap-FaculdadedeInformáticaeAdministraçãoPaulista/POS_FIAP_ALURA/Modulos 3 e 4/Challenge/Dados Históricos - Ibovespac(01-01-2000 ate 18-08-2023).csv',parse_dates = ['Data'])\n"
     ]
    }
   ],
   "source": [
    "import pandas as pd\n",
    "import locale\n",
    "\n",
    "locale.setlocale(locale.LC_ALL, 'pt_BR.UTF-8')\n",
    "\n",
    "dados = pd.read_csv('/Users/marco/Library/CloudStorage/OneDrive-Fiap-FaculdadedeInformáticaeAdministraçãoPaulista/POS_FIAP_ALURA/Modulos 3 e 4/Challenge/Dados Históricos - Ibovespac(01-01-2000 ate 18-08-2023).csv',parse_dates = ['Data'])\n",
    "\n",
    "dados_df = pd.DataFrame(data=dados, columns=[['Data','Ultimo_fechamento','Abertura','Max','Min','Volume','Variacao_percent']])"
   ]
  },
  {
   "cell_type": "code",
   "execution_count": 276,
   "metadata": {},
   "outputs": [],
   "source": [
    "dados.columns = ['Data','Ultimo_fechamento','Abertura','Max','Min','Volume','Variacao_percent']"
   ]
  },
  {
   "cell_type": "code",
   "execution_count": 277,
   "metadata": {},
   "outputs": [
    {
     "data": {
      "text/html": [
       "<div>\n",
       "<style scoped>\n",
       "    .dataframe tbody tr th:only-of-type {\n",
       "        vertical-align: middle;\n",
       "    }\n",
       "\n",
       "    .dataframe tbody tr th {\n",
       "        vertical-align: top;\n",
       "    }\n",
       "\n",
       "    .dataframe thead th {\n",
       "        text-align: right;\n",
       "    }\n",
       "</style>\n",
       "<table border=\"1\" class=\"dataframe\">\n",
       "  <thead>\n",
       "    <tr style=\"text-align: right;\">\n",
       "      <th></th>\n",
       "      <th>Data</th>\n",
       "      <th>Ultimo_fechamento</th>\n",
       "      <th>Abertura</th>\n",
       "      <th>Max</th>\n",
       "      <th>Min</th>\n",
       "      <th>Volume</th>\n",
       "      <th>Variacao_percent</th>\n",
       "    </tr>\n",
       "  </thead>\n",
       "  <tbody>\n",
       "    <tr>\n",
       "      <th>0</th>\n",
       "      <td>2021-11-03</td>\n",
       "      <td>114.98</td>\n",
       "      <td>112.78</td>\n",
       "      <td>115.13</td>\n",
       "      <td>112.78</td>\n",
       "      <td>12,09M</td>\n",
       "      <td>1,96%</td>\n",
       "    </tr>\n",
       "    <tr>\n",
       "      <th>1</th>\n",
       "      <td>2021-10-03</td>\n",
       "      <td>112.78</td>\n",
       "      <td>111.33</td>\n",
       "      <td>112.93</td>\n",
       "      <td>110.00</td>\n",
       "      <td>12,51M</td>\n",
       "      <td>1,30%</td>\n",
       "    </tr>\n",
       "    <tr>\n",
       "      <th>2</th>\n",
       "      <td>2021-09-03</td>\n",
       "      <td>111.33</td>\n",
       "      <td>110.61</td>\n",
       "      <td>112.53</td>\n",
       "      <td>109.34</td>\n",
       "      <td>12,14M</td>\n",
       "      <td>0,65%</td>\n",
       "    </tr>\n",
       "    <tr>\n",
       "      <th>3</th>\n",
       "      <td>2021-08-03</td>\n",
       "      <td>110.61</td>\n",
       "      <td>115.20</td>\n",
       "      <td>115.20</td>\n",
       "      <td>110.27</td>\n",
       "      <td>13,70M</td>\n",
       "      <td>-3,98%</td>\n",
       "    </tr>\n",
       "    <tr>\n",
       "      <th>4</th>\n",
       "      <td>2021-05-03</td>\n",
       "      <td>115.20</td>\n",
       "      <td>112.69</td>\n",
       "      <td>115.50</td>\n",
       "      <td>112.50</td>\n",
       "      <td>13,25M</td>\n",
       "      <td>2,23%</td>\n",
       "    </tr>\n",
       "    <tr>\n",
       "      <th>...</th>\n",
       "      <td>...</td>\n",
       "      <td>...</td>\n",
       "      <td>...</td>\n",
       "      <td>...</td>\n",
       "      <td>...</td>\n",
       "      <td>...</td>\n",
       "      <td>...</td>\n",
       "    </tr>\n",
       "    <tr>\n",
       "      <th>4994</th>\n",
       "      <td>2001-04-01</td>\n",
       "      <td>16.68</td>\n",
       "      <td>16.60</td>\n",
       "      <td>16.93</td>\n",
       "      <td>16.59</td>\n",
       "      <td>331,23M</td>\n",
       "      <td>0,46%</td>\n",
       "    </tr>\n",
       "    <tr>\n",
       "      <th>4995</th>\n",
       "      <td>2001-03-01</td>\n",
       "      <td>16.60</td>\n",
       "      <td>15.43</td>\n",
       "      <td>16.60</td>\n",
       "      <td>15.25</td>\n",
       "      <td>381,20M</td>\n",
       "      <td>7,61%</td>\n",
       "    </tr>\n",
       "    <tr>\n",
       "      <th>4996</th>\n",
       "      <td>2001-02-01</td>\n",
       "      <td>15.43</td>\n",
       "      <td>15.24</td>\n",
       "      <td>15.62</td>\n",
       "      <td>15.17</td>\n",
       "      <td>230,63M</td>\n",
       "      <td>1,09%</td>\n",
       "    </tr>\n",
       "    <tr>\n",
       "      <th>4997</th>\n",
       "      <td>2000-12-28</td>\n",
       "      <td>15.26</td>\n",
       "      <td>15.19</td>\n",
       "      <td>15.27</td>\n",
       "      <td>15.13</td>\n",
       "      <td>324,26M</td>\n",
       "      <td>0,48%</td>\n",
       "    </tr>\n",
       "    <tr>\n",
       "      <th>4998</th>\n",
       "      <td>2000-12-27</td>\n",
       "      <td>15.19</td>\n",
       "      <td>14.80</td>\n",
       "      <td>15.22</td>\n",
       "      <td>14.80</td>\n",
       "      <td>239,98M</td>\n",
       "      <td>2,65%</td>\n",
       "    </tr>\n",
       "  </tbody>\n",
       "</table>\n",
       "<p>4999 rows × 7 columns</p>\n",
       "</div>"
      ],
      "text/plain": [
       "           Data  Ultimo_fechamento  Abertura    Max    Min   Volume  \\\n",
       "0    2021-11-03             114.98    112.78 115.13 112.78   12,09M   \n",
       "1    2021-10-03             112.78    111.33 112.93 110.00   12,51M   \n",
       "2    2021-09-03             111.33    110.61 112.53 109.34   12,14M   \n",
       "3    2021-08-03             110.61    115.20 115.20 110.27   13,70M   \n",
       "4    2021-05-03             115.20    112.69 115.50 112.50   13,25M   \n",
       "...         ...                ...       ...    ...    ...      ...   \n",
       "4994 2001-04-01              16.68     16.60  16.93  16.59  331,23M   \n",
       "4995 2001-03-01              16.60     15.43  16.60  15.25  381,20M   \n",
       "4996 2001-02-01              15.43     15.24  15.62  15.17  230,63M   \n",
       "4997 2000-12-28              15.26     15.19  15.27  15.13  324,26M   \n",
       "4998 2000-12-27              15.19     14.80  15.22  14.80  239,98M   \n",
       "\n",
       "     Variacao_percent  \n",
       "0               1,96%  \n",
       "1               1,30%  \n",
       "2               0,65%  \n",
       "3              -3,98%  \n",
       "4               2,23%  \n",
       "...               ...  \n",
       "4994            0,46%  \n",
       "4995            7,61%  \n",
       "4996            1,09%  \n",
       "4997            0,48%  \n",
       "4998            2,65%  \n",
       "\n",
       "[4999 rows x 7 columns]"
      ]
     },
     "execution_count": 277,
     "metadata": {},
     "output_type": "execute_result"
    }
   ],
   "source": [
    "dados"
   ]
  },
  {
   "cell_type": "markdown",
   "metadata": {},
   "source": [
    "Achar valores Nulos"
   ]
  },
  {
   "cell_type": "code",
   "execution_count": 307,
   "metadata": {},
   "outputs": [
    {
     "name": "stdout",
     "output_type": "stream",
     "text": [
      "Total de Colunas com Valores Nulos :  0\n"
     ]
    },
    {
     "data": {
      "text/plain": [
       "Data                 0\n",
       "Ultimo_fechamento    0\n",
       "Abertura             0\n",
       "Max                  0\n",
       "Min                  0\n",
       "Volume_N             0\n",
       "Variacao_percent     0\n",
       "dtype: int64"
      ]
     },
     "metadata": {},
     "output_type": "display_data"
    },
    {
     "name": "stdout",
     "output_type": "stream",
     "text": [
      "<class 'pandas.core.frame.DataFrame'>\n",
      "Int64Index: 4998 entries, 0 to 4998\n",
      "Data columns (total 7 columns):\n",
      " #   Column             Non-Null Count  Dtype         \n",
      "---  ------             --------------  -----         \n",
      " 0   Data               4998 non-null   datetime64[ns]\n",
      " 1   Ultimo_fechamento  4998 non-null   float64       \n",
      " 2   Abertura           4998 non-null   float64       \n",
      " 3   Max                4998 non-null   float64       \n",
      " 4   Min                4998 non-null   float64       \n",
      " 5   Volume_N           4998 non-null   float64       \n",
      " 6   Variacao_percent   4998 non-null   object        \n",
      "dtypes: datetime64[ns](1), float64(5), object(1)\n",
      "memory usage: 312.4+ KB\n"
     ]
    }
   ],
   "source": [
    "#Antes\n",
    "print('Total de Colunas com Valores Nulos : ',dados.isna().any().sum())\n",
    "display(dados.isna().sum())\n",
    "dados.info()"
   ]
  },
  {
   "cell_type": "code",
   "execution_count": 279,
   "metadata": {},
   "outputs": [
    {
     "data": {
      "text/html": [
       "<div>\n",
       "<style scoped>\n",
       "    .dataframe tbody tr th:only-of-type {\n",
       "        vertical-align: middle;\n",
       "    }\n",
       "\n",
       "    .dataframe tbody tr th {\n",
       "        vertical-align: top;\n",
       "    }\n",
       "\n",
       "    .dataframe thead th {\n",
       "        text-align: right;\n",
       "    }\n",
       "</style>\n",
       "<table border=\"1\" class=\"dataframe\">\n",
       "  <thead>\n",
       "    <tr style=\"text-align: right;\">\n",
       "      <th></th>\n",
       "      <th>Data</th>\n",
       "      <th>Ultimo_fechamento</th>\n",
       "      <th>Abertura</th>\n",
       "      <th>Max</th>\n",
       "      <th>Min</th>\n",
       "      <th>Volume</th>\n",
       "      <th>Variacao_percent</th>\n",
       "    </tr>\n",
       "  </thead>\n",
       "  <tbody>\n",
       "    <tr>\n",
       "      <th>1258</th>\n",
       "      <td>2016-10-02</td>\n",
       "      <td>40.38</td>\n",
       "      <td>40.59</td>\n",
       "      <td>40.59</td>\n",
       "      <td>39.96</td>\n",
       "      <td>NaN</td>\n",
       "      <td>-0,53%</td>\n",
       "    </tr>\n",
       "  </tbody>\n",
       "</table>\n",
       "</div>"
      ],
      "text/plain": [
       "           Data  Ultimo_fechamento  Abertura   Max   Min Volume  \\\n",
       "1258 2016-10-02              40.38     40.59 40.59 39.96    NaN   \n",
       "\n",
       "     Variacao_percent  \n",
       "1258           -0,53%  "
      ]
     },
     "execution_count": 279,
     "metadata": {},
     "output_type": "execute_result"
    }
   ],
   "source": [
    "#Linhas com valores nulos \n",
    "dados[dados['Volume'].isna()]\n"
   ]
  },
  {
   "cell_type": "code",
   "execution_count": 280,
   "metadata": {},
   "outputs": [],
   "source": [
    "#Apagar a linha com registro Null\n",
    "dados.dropna(subset=['Volume'], how ='any', axis = 0,inplace=True)"
   ]
  },
  {
   "cell_type": "code",
   "execution_count": 281,
   "metadata": {},
   "outputs": [
    {
     "name": "stdout",
     "output_type": "stream",
     "text": [
      "Colunas com Valores Nulos :  0\n"
     ]
    },
    {
     "data": {
      "text/plain": [
       "Data                 0\n",
       "Ultimo_fechamento    0\n",
       "Abertura             0\n",
       "Max                  0\n",
       "Min                  0\n",
       "Volume               0\n",
       "Variacao_percent     0\n",
       "dtype: int64"
      ]
     },
     "metadata": {},
     "output_type": "display_data"
    },
    {
     "name": "stdout",
     "output_type": "stream",
     "text": [
      "<class 'pandas.core.frame.DataFrame'>\n",
      "Int64Index: 4998 entries, 0 to 4998\n",
      "Data columns (total 7 columns):\n",
      " #   Column             Non-Null Count  Dtype         \n",
      "---  ------             --------------  -----         \n",
      " 0   Data               4998 non-null   datetime64[ns]\n",
      " 1   Ultimo_fechamento  4998 non-null   float64       \n",
      " 2   Abertura           4998 non-null   float64       \n",
      " 3   Max                4998 non-null   float64       \n",
      " 4   Min                4998 non-null   float64       \n",
      " 5   Volume             4998 non-null   object        \n",
      " 6   Variacao_percent   4998 non-null   object        \n",
      "dtypes: datetime64[ns](1), float64(4), object(2)\n",
      "memory usage: 312.4+ KB\n"
     ]
    }
   ],
   "source": [
    "#Depois\n",
    "print('Colunas com Valores Nulos : ',dados.isna().any().sum())\n",
    "display(dados.isna().sum())\n",
    "dados.info()"
   ]
  },
  {
   "cell_type": "markdown",
   "metadata": {},
   "source": [
    "identificar os casos da coluna volume que tem letra M e converte para int ou float, \n",
    "casos com M = Multiplica por 1_000_000\n",
    "casos com K = Multiplica por 1_000"
   ]
  },
  {
   "cell_type": "code",
   "execution_count": 282,
   "metadata": {},
   "outputs": [],
   "source": [
    "#pd.options.display.float_format = '{:.2f}'.format\n",
    "\n",
    "\n",
    "escala = {'M': 1_000_000, 'K': 1_000} #Dicionario com escala do valor\n",
    "\n",
    "def Converte_valor(valor):\n",
    "    if isinstance(valor, str):\n",
    "        numero, letra = valor[:-1], valor[-1] #Percorre para o ultimo caracter do item se tiver o ..M ou ..K vai cair na regra especifica do dict\n",
    "        if letra in escala:\n",
    "            return float(numero.replace(',', '.')) * escala[letra]\n",
    "    return valor\n",
    "\n",
    "dados['Volume_N'] = dados['Volume'].apply(Converte_valor)\n",
    "\n",
    "# Aplicar a formatação de acordo com a localização\n",
    "# dados['Volume_N'] = dados['Volume_N'].apply(lambda x: locale.format_string('%d', x))\n"
   ]
  },
  {
   "cell_type": "code",
   "execution_count": 283,
   "metadata": {},
   "outputs": [
    {
     "data": {
      "text/html": [
       "<div>\n",
       "<style scoped>\n",
       "    .dataframe tbody tr th:only-of-type {\n",
       "        vertical-align: middle;\n",
       "    }\n",
       "\n",
       "    .dataframe tbody tr th {\n",
       "        vertical-align: top;\n",
       "    }\n",
       "\n",
       "    .dataframe thead th {\n",
       "        text-align: right;\n",
       "    }\n",
       "</style>\n",
       "<table border=\"1\" class=\"dataframe\">\n",
       "  <thead>\n",
       "    <tr style=\"text-align: right;\">\n",
       "      <th></th>\n",
       "      <th>Data</th>\n",
       "      <th>Ultimo_fechamento</th>\n",
       "      <th>Abertura</th>\n",
       "      <th>Max</th>\n",
       "      <th>Min</th>\n",
       "      <th>Volume</th>\n",
       "      <th>Variacao_percent</th>\n",
       "      <th>Volume_N</th>\n",
       "    </tr>\n",
       "  </thead>\n",
       "  <tbody>\n",
       "    <tr>\n",
       "      <th>420</th>\n",
       "      <td>2019-01-07</td>\n",
       "      <td>101.34</td>\n",
       "      <td>100.97</td>\n",
       "      <td>102.43</td>\n",
       "      <td>100.97</td>\n",
       "      <td>424,32K</td>\n",
       "      <td>0,37%</td>\n",
       "      <td>424320.00</td>\n",
       "    </tr>\n",
       "    <tr>\n",
       "      <th>909</th>\n",
       "      <td>2017-04-07</td>\n",
       "      <td>63.23</td>\n",
       "      <td>63.27</td>\n",
       "      <td>63.35</td>\n",
       "      <td>63.08</td>\n",
       "      <td>980,07K</td>\n",
       "      <td>-0,08%</td>\n",
       "      <td>980070.00</td>\n",
       "    </tr>\n",
       "    <tr>\n",
       "      <th>1033</th>\n",
       "      <td>2017-02-01</td>\n",
       "      <td>59.59</td>\n",
       "      <td>60.23</td>\n",
       "      <td>60.23</td>\n",
       "      <td>59.37</td>\n",
       "      <td>833,73K</td>\n",
       "      <td>-1,06%</td>\n",
       "      <td>833730.00</td>\n",
       "    </tr>\n",
       "    <tr>\n",
       "      <th>1037</th>\n",
       "      <td>2016-12-26</td>\n",
       "      <td>58.62</td>\n",
       "      <td>57.94</td>\n",
       "      <td>58.78</td>\n",
       "      <td>57.94</td>\n",
       "      <td>701,23K</td>\n",
       "      <td>1,18%</td>\n",
       "      <td>701230.00</td>\n",
       "    </tr>\n",
       "    <tr>\n",
       "      <th>1652</th>\n",
       "      <td>2014-04-07</td>\n",
       "      <td>54.06</td>\n",
       "      <td>53.89</td>\n",
       "      <td>54.09</td>\n",
       "      <td>53.70</td>\n",
       "      <td>753,84K</td>\n",
       "      <td>0,34%</td>\n",
       "      <td>753840.00</td>\n",
       "    </tr>\n",
       "    <tr>\n",
       "      <th>...</th>\n",
       "      <td>...</td>\n",
       "      <td>...</td>\n",
       "      <td>...</td>\n",
       "      <td>...</td>\n",
       "      <td>...</td>\n",
       "      <td>...</td>\n",
       "      <td>...</td>\n",
       "      <td>...</td>\n",
       "    </tr>\n",
       "    <tr>\n",
       "      <th>3196</th>\n",
       "      <td>2008-08-04</td>\n",
       "      <td>64.54</td>\n",
       "      <td>64.18</td>\n",
       "      <td>64.83</td>\n",
       "      <td>63.45</td>\n",
       "      <td>877,99K</td>\n",
       "      <td>0,57%</td>\n",
       "      <td>877990.00</td>\n",
       "    </tr>\n",
       "    <tr>\n",
       "      <th>3197</th>\n",
       "      <td>2008-07-04</td>\n",
       "      <td>64.18</td>\n",
       "      <td>64.45</td>\n",
       "      <td>65.41</td>\n",
       "      <td>63.92</td>\n",
       "      <td>909,33K</td>\n",
       "      <td>-0,42%</td>\n",
       "      <td>909330.00</td>\n",
       "    </tr>\n",
       "    <tr>\n",
       "      <th>3198</th>\n",
       "      <td>2008-04-04</td>\n",
       "      <td>64.45</td>\n",
       "      <td>64.18</td>\n",
       "      <td>64.63</td>\n",
       "      <td>63.91</td>\n",
       "      <td>812,76K</td>\n",
       "      <td>0,42%</td>\n",
       "      <td>812760.00</td>\n",
       "    </tr>\n",
       "    <tr>\n",
       "      <th>3295</th>\n",
       "      <td>2007-07-11</td>\n",
       "      <td>63.50</td>\n",
       "      <td>64.50</td>\n",
       "      <td>64.60</td>\n",
       "      <td>63.22</td>\n",
       "      <td>112,10K</td>\n",
       "      <td>-1,55%</td>\n",
       "      <td>112100.00</td>\n",
       "    </tr>\n",
       "    <tr>\n",
       "      <th>3311</th>\n",
       "      <td>2007-10-15</td>\n",
       "      <td>62.97</td>\n",
       "      <td>62.45</td>\n",
       "      <td>63.84</td>\n",
       "      <td>62.41</td>\n",
       "      <td>520,87K</td>\n",
       "      <td>0,82%</td>\n",
       "      <td>520870.00</td>\n",
       "    </tr>\n",
       "  </tbody>\n",
       "</table>\n",
       "<p>61 rows × 8 columns</p>\n",
       "</div>"
      ],
      "text/plain": [
       "           Data  Ultimo_fechamento  Abertura    Max    Min   Volume  \\\n",
       "420  2019-01-07             101.34    100.97 102.43 100.97  424,32K   \n",
       "909  2017-04-07              63.23     63.27  63.35  63.08  980,07K   \n",
       "1033 2017-02-01              59.59     60.23  60.23  59.37  833,73K   \n",
       "1037 2016-12-26              58.62     57.94  58.78  57.94  701,23K   \n",
       "1652 2014-04-07              54.06     53.89  54.09  53.70  753,84K   \n",
       "...         ...                ...       ...    ...    ...      ...   \n",
       "3196 2008-08-04              64.54     64.18  64.83  63.45  877,99K   \n",
       "3197 2008-07-04              64.18     64.45  65.41  63.92  909,33K   \n",
       "3198 2008-04-04              64.45     64.18  64.63  63.91  812,76K   \n",
       "3295 2007-07-11              63.50     64.50  64.60  63.22  112,10K   \n",
       "3311 2007-10-15              62.97     62.45  63.84  62.41  520,87K   \n",
       "\n",
       "     Variacao_percent  Volume_N  \n",
       "420             0,37% 424320.00  \n",
       "909            -0,08% 980070.00  \n",
       "1033           -1,06% 833730.00  \n",
       "1037            1,18% 701230.00  \n",
       "1652            0,34% 753840.00  \n",
       "...               ...       ...  \n",
       "3196            0,57% 877990.00  \n",
       "3197           -0,42% 909330.00  \n",
       "3198            0,42% 812760.00  \n",
       "3295           -1,55% 112100.00  \n",
       "3311            0,82% 520870.00  \n",
       "\n",
       "[61 rows x 8 columns]"
      ]
     },
     "execution_count": 283,
     "metadata": {},
     "output_type": "execute_result"
    }
   ],
   "source": [
    "#Consultar valores do volume K ou M\n",
    "filtro_KM = dados['Volume'].str.endswith('K')\n",
    "\n",
    "dados[filtro_KM]"
   ]
  },
  {
   "cell_type": "code",
   "execution_count": 284,
   "metadata": {},
   "outputs": [],
   "source": [
    "#dados['Data'] = dados['Data'].str.replace('','').astype('datetime64[Y]')\n",
    "dados['Data'] = dados['Data'].astype('datetime64[Y]')"
   ]
  },
  {
   "cell_type": "code",
   "execution_count": 285,
   "metadata": {},
   "outputs": [],
   "source": [
    "dados=dados[['Data','Ultimo_fechamento','Abertura','Max','Min','Volume_N','Variacao_percent']]"
   ]
  },
  {
   "cell_type": "code",
   "execution_count": 287,
   "metadata": {},
   "outputs": [
    {
     "name": "stdout",
     "output_type": "stream",
     "text": [
      "<class 'pandas.core.frame.DataFrame'>\n",
      "Int64Index: 4998 entries, 0 to 4998\n",
      "Data columns (total 7 columns):\n",
      " #   Column             Non-Null Count  Dtype         \n",
      "---  ------             --------------  -----         \n",
      " 0   Data               4998 non-null   datetime64[ns]\n",
      " 1   Ultimo_fechamento  4998 non-null   float64       \n",
      " 2   Abertura           4998 non-null   float64       \n",
      " 3   Max                4998 non-null   float64       \n",
      " 4   Min                4998 non-null   float64       \n",
      " 5   Volume_N           4998 non-null   float64       \n",
      " 6   Variacao_percent   4998 non-null   object        \n",
      "dtypes: datetime64[ns](1), float64(5), object(1)\n",
      "memory usage: 312.4+ KB\n"
     ]
    }
   ],
   "source": [
    "dados.info()"
   ]
  },
  {
   "cell_type": "code",
   "execution_count": 309,
   "metadata": {},
   "outputs": [],
   "source": [
    "import matplotlib.pyplot as plt\n",
    "import seaborn as sb\n"
   ]
  },
  {
   "cell_type": "code",
   "execution_count": 308,
   "metadata": {},
   "outputs": [
    {
     "data": {
      "text/html": [
       "<div>\n",
       "<style scoped>\n",
       "    .dataframe tbody tr th:only-of-type {\n",
       "        vertical-align: middle;\n",
       "    }\n",
       "\n",
       "    .dataframe tbody tr th {\n",
       "        vertical-align: top;\n",
       "    }\n",
       "\n",
       "    .dataframe thead th {\n",
       "        text-align: right;\n",
       "    }\n",
       "</style>\n",
       "<table border=\"1\" class=\"dataframe\">\n",
       "  <thead>\n",
       "    <tr style=\"text-align: right;\">\n",
       "      <th></th>\n",
       "      <th>Ultimo_fechamento</th>\n",
       "      <th>Abertura</th>\n",
       "      <th>Max</th>\n",
       "      <th>Min</th>\n",
       "      <th>Volume_N</th>\n",
       "    </tr>\n",
       "  </thead>\n",
       "  <tbody>\n",
       "    <tr>\n",
       "      <th>count</th>\n",
       "      <td>4998.00</td>\n",
       "      <td>4998.00</td>\n",
       "      <td>4998.00</td>\n",
       "      <td>4998.00</td>\n",
       "      <td>4998.00</td>\n",
       "    </tr>\n",
       "    <tr>\n",
       "      <th>mean</th>\n",
       "      <td>52.33</td>\n",
       "      <td>52.32</td>\n",
       "      <td>52.87</td>\n",
       "      <td>51.77</td>\n",
       "      <td>73647436.33</td>\n",
       "    </tr>\n",
       "    <tr>\n",
       "      <th>std</th>\n",
       "      <td>26.17</td>\n",
       "      <td>26.16</td>\n",
       "      <td>26.39</td>\n",
       "      <td>25.94</td>\n",
       "      <td>122365231.04</td>\n",
       "    </tr>\n",
       "    <tr>\n",
       "      <th>min</th>\n",
       "      <td>8.37</td>\n",
       "      <td>8.40</td>\n",
       "      <td>8.51</td>\n",
       "      <td>8.22</td>\n",
       "      <td>112100.00</td>\n",
       "    </tr>\n",
       "    <tr>\n",
       "      <th>25%</th>\n",
       "      <td>33.51</td>\n",
       "      <td>33.47</td>\n",
       "      <td>33.80</td>\n",
       "      <td>33.15</td>\n",
       "      <td>2830000.00</td>\n",
       "    </tr>\n",
       "    <tr>\n",
       "      <th>50%</th>\n",
       "      <td>53.88</td>\n",
       "      <td>53.87</td>\n",
       "      <td>54.39</td>\n",
       "      <td>53.26</td>\n",
       "      <td>4480000.00</td>\n",
       "    </tr>\n",
       "    <tr>\n",
       "      <th>75%</th>\n",
       "      <td>65.98</td>\n",
       "      <td>65.96</td>\n",
       "      <td>66.59</td>\n",
       "      <td>65.36</td>\n",
       "      <td>120220000.00</td>\n",
       "    </tr>\n",
       "    <tr>\n",
       "      <th>max</th>\n",
       "      <td>125.08</td>\n",
       "      <td>125.08</td>\n",
       "      <td>125.32</td>\n",
       "      <td>123.23</td>\n",
       "      <td>994960000.00</td>\n",
       "    </tr>\n",
       "  </tbody>\n",
       "</table>\n",
       "</div>"
      ],
      "text/plain": [
       "       Ultimo_fechamento  Abertura     Max     Min     Volume_N\n",
       "count            4998.00   4998.00 4998.00 4998.00      4998.00\n",
       "mean               52.33     52.32   52.87   51.77  73647436.33\n",
       "std                26.17     26.16   26.39   25.94 122365231.04\n",
       "min                 8.37      8.40    8.51    8.22    112100.00\n",
       "25%                33.51     33.47   33.80   33.15   2830000.00\n",
       "50%                53.88     53.87   54.39   53.26   4480000.00\n",
       "75%                65.98     65.96   66.59   65.36 120220000.00\n",
       "max               125.08    125.08  125.32  123.23 994960000.00"
      ]
     },
     "execution_count": 308,
     "metadata": {},
     "output_type": "execute_result"
    }
   ],
   "source": [
    "dados.describe()"
   ]
  },
  {
   "cell_type": "code",
   "execution_count": 315,
   "metadata": {},
   "outputs": [
    {
     "data": {
      "text/plain": [
       "Text(0.5, 1.0, 'Histograma')"
      ]
     },
     "execution_count": 315,
     "metadata": {},
     "output_type": "execute_result"
    },
    {
     "data": {
      "image/png": "[encoded data removed]",
      "text/plain": [
       "<Figure size 640x480 with 1 Axes>"
      ]
     },
     "metadata": {},
     "output_type": "display_data"
    }
   ],
   "source": [
    "plt.hist( dados ['Ultimo_fechamento'],bins=100)\n",
    "\n",
    "plt.ylabel('Performace do Indice( valor de Fechamento)')\n",
    "plt.xlabel('Fechamento')\n",
    "\n",
    "plt.title('Histograma')"
   ]
  },
  {
   "cell_type": "code",
   "execution_count": 319,
   "metadata": {},
   "outputs": [
    {
     "data": {
      "text/plain": [
       "Text(0.5, 1.0, 'Histograma')"
      ]
     },
     "execution_count": 319,
     "metadata": {},
     "output_type": "execute_result"
    },
    {
     "data": {
      "image/png": "[encoded data removed]",
      "text/plain": [
       "<Figure size 640x480 with 1 Axes>"
      ]
     },
     "metadata": {},
     "output_type": "display_data"
    }
   ],
   "source": [
    "plt.hist( dados ['Volume_N'],bins=4)\n",
    "\n",
    "plt.ylabel('Performace do Indice( valor de Fechamento)')\n",
    "plt.xlabel('Fechamento')\n",
    "\n",
    "plt.title('Histograma')"
   ]
  },
  {
   "cell_type": "code",
   "execution_count": null,
   "metadata": {},
   "outputs": [],
   "source": []
  }
 ],
 "metadata": {
  "kernelspec": {
   "display_name": "Python 3",
   "language": "python",
   "name": "python3"
  },
  "language_info": {
   "codemirror_mode": {
    "name": "ipython",
    "version": 3
   },
   "file_extension": ".py",
   "mimetype": "text/x-python",
   "name": "python",
   "nbconvert_exporter": "python",
   "pygments_lexer": "ipython3",
   "version": "3.11.1"
  },
  "orig_nbformat": 4
 },
 "nbformat": 4,
 "nbformat_minor": 2
}
